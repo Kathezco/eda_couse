{
  "cells": [
    {
      "cell_type": "markdown",
      "metadata": {
        "colab_type": "text",
        "id": "view-in-github"
      },
      "source": [
        "<a href=\"https://colab.research.google.com/github/armandoordonez/eda_couse/blob/main/3.5-Pipeline-1.ipynb\" target=\"_parent\"><img src=\"https://colab.research.google.com/assets/colab-badge.svg\" alt=\"Open In Colab\"/></a>"
      ]
    },
    {
      "cell_type": "code",
      "execution_count": 1,
      "metadata": {
        "id": "14C24tVVh4Xk"
      },
      "outputs": [],
      "source": [
        "from sklearn import datasets\n",
        "from sklearn.model_selection import train_test_split\n",
        "from sklearn.preprocessing import StandardScaler\n",
        "from sklearn.decomposition import PCA\n",
        "from sklearn.tree import DecisionTreeClassifier\n",
        "\n",
        "# scoring data\n",
        "from sklearn.metrics import accuracy_score\n",
        "\n",
        "# importing pipes for making the Pipe flow\n",
        "from sklearn.pipeline import Pipeline\n",
        "\n"
      ]
    },
    {
      "cell_type": "code",
      "execution_count": 4,
      "metadata": {
        "colab": {
          "base_uri": "https://localhost:8080/"
        },
        "id": "WGpYkKKP5VAc",
        "outputId": "6a3db355-6245-4e7e-fbbd-51c390ac3c2a"
      },
      "outputs": [
        {
          "name": "stdout",
          "output_type": "stream",
          "text": [
            "[Pipeline]  (step 1 of 2) Processing paso2_estandarizacion, total=   0.0s\n",
            "[Pipeline]  (step 2 of 2) Processing paso3_decision_tree, total=   0.0s\n",
            "0.9333333333333333\n"
          ]
        }
      ],
      "source": [
        "# dataset de prueba\n",
        "\n",
        "iris = datasets.load_iris()\n",
        "X = iris.data\n",
        "y = iris.target\n",
        "\n",
        "#Partimos los datos\n",
        "X_train, X_test, y_train, y_test = train_test_split(X, y, test_size = 0.50)\n",
        "\n",
        "# paso 1 PCA, paso 2 escalado, paso 2 clasificación\n",
        "\n",
        "pipe = Pipeline([('paso_estandarizacion', StandardScaler()), ('paso_decision_tree', DecisionTreeClassifier())], verbose = True)\n",
        "\n",
        "# fitting los datos en el pipeline\n",
        "\n",
        "pipe.fit(X_train, y_train)\n",
        "\n",
        "# mostramos los resultados\n",
        "print(accuracy_score(y_test, pipe.predict(X_test)))"
      ]
    },
    {
      "cell_type": "code",
      "execution_count": 6,
      "metadata": {
        "colab": {
          "base_uri": "https://localhost:8080/"
        },
        "id": "ihqTw6g8iPtg",
        "outputId": "29d0bac8-817a-4f8f-f46a-a0425f86dbd2"
      },
      "outputs": [
        {
          "name": "stdout",
          "output_type": "stream",
          "text": [
            "[Pipeline] ............... (step 1 of 3) Processing pca, total=   0.0s\n",
            "[Pipeline]  (step 2 of 3) Processing paso2_estandarizacion, total=   0.0s\n",
            "[Pipeline] ..... (step 3 of 3) Processing decision_tree, total=   0.0s\n",
            "0.8933333333333333\n"
          ]
        }
      ],
      "source": [
        "pipe = Pipeline([('paso_pca', PCA(n_components = 2)), ('paso_estandarizacion', StandardScaler()),  ('paso_decision_tree', DecisionTreeClassifier())], verbose = True)\n",
        "\n",
        "# fitting the data in the pipeline\n",
        "pipe.fit(X_train, y_train)\n",
        "\n",
        "# scoring data\n",
        "from sklearn.metrics import accuracy_score\n",
        "print(accuracy_score(y_test, pipe.predict(X_test)))"
      ]
    },
    {
      "cell_type": "code",
      "execution_count": 8,
      "metadata": {
        "colab": {
          "base_uri": "https://localhost:8080/"
        },
        "id": "apzqj_3DiX_5",
        "outputId": "5a392672-acb0-4ff5-8e08-9231c19f1485"
      },
      "outputs": [
        {
          "name": "stdout",
          "output_type": "stream",
          "text": [
            "[Pipeline]  (step 1 of 1) Processing paso_decision_tree, total=   0.0s\n",
            "0.9333333333333333\n"
          ]
        }
      ],
      "source": [
        "pipe = Pipeline([('paso_decision_tree', DecisionTreeClassifier())], verbose = True)\n",
        "\n",
        "# fitting the data in the pipeline\n",
        "pipe.fit(X_train, y_train)\n",
        "\n",
        "# scoring data\n",
        "from sklearn.metrics import accuracy_score\n",
        "print(accuracy_score(y_test, pipe.predict(X_test)))"
      ]
    },
    {
      "cell_type": "code",
      "execution_count": null,
      "metadata": {
        "id": "_aHFqlzmiede"
      },
      "outputs": [],
      "source": []
    }
  ],
  "metadata": {
    "colab": {
      "authorship_tag": "ABX9TyNdOGqIgrIjaInm0DGayY4A",
      "include_colab_link": true,
      "provenance": []
    },
    "kernelspec": {
      "display_name": "Python 3",
      "name": "python3"
    },
    "language_info": {
      "name": "python"
    }
  },
  "nbformat": 4,
  "nbformat_minor": 0
}
