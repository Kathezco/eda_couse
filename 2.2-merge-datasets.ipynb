{
  "cells": [
    {
      "cell_type": "markdown",
      "metadata": {
        "colab_type": "text",
        "id": "view-in-github"
      },
      "source": [
        "<a href=\"https://colab.research.google.com/github/armandoordonez/eda_couse/blob/main/Merge_de_datasets.ipynb\" target=\"_parent\"><img src=\"https://colab.research.google.com/assets/colab-badge.svg\" alt=\"Open In Colab\"/></a>"
      ]
    },
    {
      "cell_type": "markdown",
      "metadata": {
        "id": "xz-FNuKmj0OE"
      },
      "source": [
        "# Practica de Merge de Datasets"
      ]
    },
    {
      "cell_type": "code",
      "execution_count": 1,
      "metadata": {
        "id": "gsULr-AAkhve"
      },
      "outputs": [],
      "source": [
        "# Importar librerias\n",
        "\n",
        "import pandas as pd\n",
        "import numpy as np\n",
        "import seaborn as sns\n",
        "\n",
        "sns.set_theme(style=\"whitegrid\")"
      ]
    },
    {
      "cell_type": "markdown",
      "metadata": {
        "id": "OJmPirGPj7CE"
      },
      "source": [
        "## 1.Cargar los datasets\n",
        "Lo primero que debemos hacer es cargar los datasets. Esto lo podemos hacer a través de Drive o subiendo el archivo al colab"
      ]
    },
    {
      "cell_type": "code",
      "execution_count": 2,
      "metadata": {
        "colab": {
          "base_uri": "https://localhost:8080/"
        },
        "id": "qcl0vxg2jodY",
        "outputId": "c65a7d16-9f51-4382-bc3b-941e359ca72b"
      },
      "outputs": [
        {
          "name": "stdout",
          "output_type": "stream",
          "text": [
            "Mounted at /gdrive\n"
          ]
        }
      ],
      "source": [
        "#Importamos la libreria de drive en caso de tener los datos en el drive y usar colab\n",
        "\n",
        "#from google.colab import drive\n",
        "#drive.mount('/gdrive')"
      ]
    },
    {
      "cell_type": "code",
      "execution_count": 3,
      "metadata": {
        "id": "zaHcRN7LkL81"
      },
      "outputs": [],
      "source": [
        "# Opción Google drive\n",
        "# Usamos pandas para leer el csv en la ruta de nuestro drive\n",
        "#df1 = pd.read_csv('/gdrive/MyDrive/Monitoria IA/Practicas/Merge/Personas1.csv',    #Se ingresa la ruta completa a la ubicación del archivo de interés. El MyDrive de la ruta es tu \"Mi Unidad\", desde ahí vas ingresando a cada carpeta que tengas hasta llegar a tu archivo.\n",
        " #                na_values='?')              #Como el archivo contiene algunos caracteres ?, con este comando pandas los interpreta como nan (not a number).\n",
        "\n",
        "#df2 = pd.read_csv('/gdrive/MyDrive/Monitoria IA/Practicas/Merge/Personas2.csv',\n",
        "#                 na_values='?')"
      ]
    },
    {
      "cell_type": "markdown",
      "metadata": {
        "id": "FNKK7n6Sk0lg"
      },
      "source": [
        "### Subir archivo a Colab\n",
        "Para subir el archivo a colab, damos click en el icono de carpeta que está en el menú del lado izquierdo y luego presionamos el icono del archivo con una flecha hacia arriba.\n",
        "Esto nos abrirá unan ventana con el explorador de archivos, donde podremos importar el dataset.\n",
        "Finalmente, solo se importa usando el nombre del csv y definiendo cuales valores interpretará pandas como nan."
      ]
    },
    {
      "cell_type": "code",
      "execution_count": 6,
      "metadata": {},
      "outputs": [],
      "source": [
        "# Opción GITHUB\n",
        "df1 = pd.read_csv('https://raw.githubusercontent.com/armandoordonez/eda_couse/main/data/Personas1.csv',na_values='?')              #Como el archivo contiene algunos caracteres ?, con este comando pandas los interpreta como nan (not a number).\n",
        "df2 = pd.read_csv('https://raw.githubusercontent.com/armandoordonez/eda_couse/main/data/Personas2.csv',na_values='?')"
      ]
    },
    {
      "cell_type": "markdown",
      "metadata": {
        "id": "mnCjasLFqB1B"
      },
      "source": [
        "## 2. Verificamos los DF"
      ]
    },
    {
      "cell_type": "code",
      "execution_count": 7,
      "metadata": {
        "colab": {
          "base_uri": "https://localhost:8080/",
          "height": 206
        },
        "id": "UKcz04_CqE5A",
        "outputId": "c26fe687-78de-4598-f85b-a917ccea607e"
      },
      "outputs": [
        {
          "data": {
            "text/html": [
              "<div>\n",
              "<style scoped>\n",
              "    .dataframe tbody tr th:only-of-type {\n",
              "        vertical-align: middle;\n",
              "    }\n",
              "\n",
              "    .dataframe tbody tr th {\n",
              "        vertical-align: top;\n",
              "    }\n",
              "\n",
              "    .dataframe thead th {\n",
              "        text-align: right;\n",
              "    }\n",
              "</style>\n",
              "<table border=\"1\" class=\"dataframe\">\n",
              "  <thead>\n",
              "    <tr style=\"text-align: right;\">\n",
              "      <th></th>\n",
              "      <th>first_name</th>\n",
              "      <th>last_name</th>\n",
              "      <th>cc</th>\n",
              "    </tr>\n",
              "  </thead>\n",
              "  <tbody>\n",
              "    <tr>\n",
              "      <th>0</th>\n",
              "      <td>Berget</td>\n",
              "      <td>Proughten</td>\n",
              "      <td>1495</td>\n",
              "    </tr>\n",
              "    <tr>\n",
              "      <th>1</th>\n",
              "      <td>Scotti</td>\n",
              "      <td>Yegorovnin</td>\n",
              "      <td>311</td>\n",
              "    </tr>\n",
              "    <tr>\n",
              "      <th>2</th>\n",
              "      <td>Clayton</td>\n",
              "      <td>Reide</td>\n",
              "      <td>914</td>\n",
              "    </tr>\n",
              "    <tr>\n",
              "      <th>3</th>\n",
              "      <td>Toddie</td>\n",
              "      <td>Haddick</td>\n",
              "      <td>671</td>\n",
              "    </tr>\n",
              "    <tr>\n",
              "      <th>4</th>\n",
              "      <td>Brynna</td>\n",
              "      <td>Ferrucci</td>\n",
              "      <td>692</td>\n",
              "    </tr>\n",
              "  </tbody>\n",
              "</table>\n",
              "</div>"
            ],
            "text/plain": [
              "  first_name   last_name    cc\n",
              "0     Berget   Proughten  1495\n",
              "1     Scotti  Yegorovnin   311\n",
              "2    Clayton       Reide   914\n",
              "3     Toddie     Haddick   671\n",
              "4     Brynna    Ferrucci   692"
            ]
          },
          "execution_count": 7,
          "metadata": {},
          "output_type": "execute_result"
        }
      ],
      "source": [
        "df1.head()"
      ]
    },
    {
      "cell_type": "markdown",
      "metadata": {
        "id": "eSxVp7htsHXT"
      },
      "source": [
        "Podemos ver que el primero consta de una lista de personas que tienen un nombre y apellido, así como el número de cedula."
      ]
    },
    {
      "cell_type": "code",
      "execution_count": 8,
      "metadata": {
        "colab": {
          "base_uri": "https://localhost:8080/",
          "height": 206
        },
        "id": "mvVDArLQqHRw",
        "outputId": "cb685d01-0184-4e6f-b56c-3510acf11daf"
      },
      "outputs": [
        {
          "data": {
            "text/html": [
              "<div>\n",
              "<style scoped>\n",
              "    .dataframe tbody tr th:only-of-type {\n",
              "        vertical-align: middle;\n",
              "    }\n",
              "\n",
              "    .dataframe tbody tr th {\n",
              "        vertical-align: top;\n",
              "    }\n",
              "\n",
              "    .dataframe thead th {\n",
              "        text-align: right;\n",
              "    }\n",
              "</style>\n",
              "<table border=\"1\" class=\"dataframe\">\n",
              "  <thead>\n",
              "    <tr style=\"text-align: right;\">\n",
              "      <th></th>\n",
              "      <th>salary</th>\n",
              "      <th>city</th>\n",
              "      <th>cc</th>\n",
              "    </tr>\n",
              "  </thead>\n",
              "  <tbody>\n",
              "    <tr>\n",
              "      <th>0</th>\n",
              "      <td>$5432.91</td>\n",
              "      <td>Sabon Gari-Nangere</td>\n",
              "      <td>611</td>\n",
              "    </tr>\n",
              "    <tr>\n",
              "      <th>1</th>\n",
              "      <td>$6581.31</td>\n",
              "      <td>San Rafael Abajo</td>\n",
              "      <td>561</td>\n",
              "    </tr>\n",
              "    <tr>\n",
              "      <th>2</th>\n",
              "      <td>$14405.46</td>\n",
              "      <td>Khvānsār</td>\n",
              "      <td>13</td>\n",
              "    </tr>\n",
              "    <tr>\n",
              "      <th>3</th>\n",
              "      <td>$27742.78</td>\n",
              "      <td>Cemara</td>\n",
              "      <td>1191</td>\n",
              "    </tr>\n",
              "    <tr>\n",
              "      <th>4</th>\n",
              "      <td>$88920.27</td>\n",
              "      <td>Diên Khánh</td>\n",
              "      <td>943</td>\n",
              "    </tr>\n",
              "  </tbody>\n",
              "</table>\n",
              "</div>"
            ],
            "text/plain": [
              "      salary                city    cc\n",
              "0   $5432.91  Sabon Gari-Nangere   611\n",
              "1   $6581.31    San Rafael Abajo   561\n",
              "2  $14405.46            Khvānsār    13\n",
              "3  $27742.78              Cemara  1191\n",
              "4  $88920.27          Diên Khánh   943"
            ]
          },
          "execution_count": 8,
          "metadata": {},
          "output_type": "execute_result"
        }
      ],
      "source": [
        "df2.head()"
      ]
    },
    {
      "cell_type": "markdown",
      "metadata": {
        "id": "ajIRMWIWsPIz"
      },
      "source": [
        "El segundo df consta del salario, la ciudad y el número de cedula de una persona, solo que en este caso desconocemos el nombre."
      ]
    },
    {
      "cell_type": "markdown",
      "metadata": {
        "id": "O2dngMyWsrbe"
      },
      "source": [
        "## 3. Problema del merge\n",
        "Si quisieramos poder saber el nombre y apellido de la persona que está ganando ese salario y vive en esa ciudad, ¿Cómo lo haríamos?\n"
      ]
    },
    {
      "cell_type": "markdown",
      "metadata": {
        "id": "aujLocvOs34_"
      },
      "source": [
        "Para problemas como este, en el que tenemos dos o más datasets que necesitamos \"pegar\" tomando como referencia sus columnas, utilizamos la función merge que nos brinda Pandas."
      ]
    },
    {
      "cell_type": "code",
      "execution_count": 9,
      "metadata": {
        "id": "LbKDxrt7qJXo"
      },
      "outputs": [],
      "source": [
        "merged_df = pd.merge(df1, df2, on='cc')"
      ]
    },
    {
      "cell_type": "markdown",
      "metadata": {
        "id": "i1QzXdj5tHgI"
      },
      "source": [
        "Una posible solución es la linea de código que está arriba, en la cual tomamos ambos df y los pegamos tomando como referencia los números de cedula."
      ]
    },
    {
      "cell_type": "code",
      "execution_count": 10,
      "metadata": {
        "colab": {
          "base_uri": "https://localhost:8080/",
          "height": 206
        },
        "id": "f0Gm1dw5qY9S",
        "outputId": "975304f9-c675-4ca7-984a-f6e84807d370"
      },
      "outputs": [
        {
          "data": {
            "text/html": [
              "<div>\n",
              "<style scoped>\n",
              "    .dataframe tbody tr th:only-of-type {\n",
              "        vertical-align: middle;\n",
              "    }\n",
              "\n",
              "    .dataframe tbody tr th {\n",
              "        vertical-align: top;\n",
              "    }\n",
              "\n",
              "    .dataframe thead th {\n",
              "        text-align: right;\n",
              "    }\n",
              "</style>\n",
              "<table border=\"1\" class=\"dataframe\">\n",
              "  <thead>\n",
              "    <tr style=\"text-align: right;\">\n",
              "      <th></th>\n",
              "      <th>first_name</th>\n",
              "      <th>last_name</th>\n",
              "      <th>cc</th>\n",
              "      <th>salary</th>\n",
              "      <th>city</th>\n",
              "    </tr>\n",
              "  </thead>\n",
              "  <tbody>\n",
              "    <tr>\n",
              "      <th>0</th>\n",
              "      <td>Clayton</td>\n",
              "      <td>Reide</td>\n",
              "      <td>914</td>\n",
              "      <td>$79239.05</td>\n",
              "      <td>Wierzbica</td>\n",
              "    </tr>\n",
              "    <tr>\n",
              "      <th>1</th>\n",
              "      <td>Toddie</td>\n",
              "      <td>Haddick</td>\n",
              "      <td>671</td>\n",
              "      <td>$75752.12</td>\n",
              "      <td>Heping</td>\n",
              "    </tr>\n",
              "    <tr>\n",
              "      <th>2</th>\n",
              "      <td>Brynna</td>\n",
              "      <td>Ferrucci</td>\n",
              "      <td>692</td>\n",
              "      <td>$53230.11</td>\n",
              "      <td>Thorold</td>\n",
              "    </tr>\n",
              "    <tr>\n",
              "      <th>3</th>\n",
              "      <td>Jarred</td>\n",
              "      <td>Spore</td>\n",
              "      <td>692</td>\n",
              "      <td>$53230.11</td>\n",
              "      <td>Thorold</td>\n",
              "    </tr>\n",
              "    <tr>\n",
              "      <th>4</th>\n",
              "      <td>Atlanta</td>\n",
              "      <td>Farnill</td>\n",
              "      <td>1207</td>\n",
              "      <td>$2875.12</td>\n",
              "      <td>Duwakkandung</td>\n",
              "    </tr>\n",
              "  </tbody>\n",
              "</table>\n",
              "</div>"
            ],
            "text/plain": [
              "  first_name last_name    cc     salary          city\n",
              "0    Clayton     Reide   914  $79239.05     Wierzbica\n",
              "1     Toddie   Haddick   671  $75752.12        Heping\n",
              "2     Brynna  Ferrucci   692  $53230.11       Thorold\n",
              "3     Jarred     Spore   692  $53230.11       Thorold\n",
              "4    Atlanta   Farnill  1207   $2875.12  Duwakkandung"
            ]
          },
          "execution_count": 10,
          "metadata": {},
          "output_type": "execute_result"
        }
      ],
      "source": [
        "merged_df.head()"
      ]
    },
    {
      "cell_type": "markdown",
      "metadata": {
        "id": "zknDxUd4tPqo"
      },
      "source": [
        "Como podemos observar, el resultado nos muestra que tenemos una nueva tabla con nombre, apellido, numero de cedula, salario y ciudad, logrando así unir los datos.\n",
        "En este caso, el df resultante puede no tener el mismo tamaño que los df iniciales, esto sería si hay cedulas que no coinciden en ambos dataset."
      ]
    },
    {
      "cell_type": "markdown",
      "metadata": {
        "id": "NrgY2E-Ct3_E"
      },
      "source": [
        "## Tipos de Merge"
      ]
    },
    {
      "cell_type": "markdown",
      "metadata": {
        "id": "Msge9PERt6sm"
      },
      "source": [
        "Los principales tipos de merge se pueden separar en 3:\n",
        "*   Inner: Es el tipo de merge por defecto, solo toma los datos que coincidan en su columna de referencia para ambos dataset. (En el ejemplo fue la cc, si en alguno de los dos dataset no estaba la misma cc, no se agrega)\n",
        "*   Left: Agrega los datos que estén en ambos dataset, pero también agrega los datos del dataset que pongamos primero en nuestra función merge. (En el ejemplo, el df1)\n",
        "*   Right: Agrega los datos que estén en ambos dataset, pero también agrega los datos del dataset que pongamos primero en nuestra función merge. (En el ejemplo, el df1)\n",
        "\n",
        "\n",
        "\n",
        "\n"
      ]
    },
    {
      "cell_type": "markdown",
      "metadata": {
        "id": "b3XVzrpFumGf"
      },
      "source": [
        "Para cambiar el tipo de Merge debemos añadir una instrucción a la función llamada \"how\":\n",
        "\n",
        "\n",
        "```\n",
        "pd.merge(df1,df2,on='cc',how=\"left\")\n",
        "```\n",
        "\n"
      ]
    },
    {
      "cell_type": "code",
      "execution_count": 11,
      "metadata": {
        "id": "P4184iJtu4Op"
      },
      "outputs": [],
      "source": [
        "merged_df_left = pd.merge(df1,df2,on='cc', how='left')"
      ]
    },
    {
      "cell_type": "code",
      "execution_count": 12,
      "metadata": {
        "colab": {
          "base_uri": "https://localhost:8080/",
          "height": 206
        },
        "id": "YiFa_l-EvBmZ",
        "outputId": "e98a6183-ded0-4ae6-9786-0b1c5ef44eb9"
      },
      "outputs": [
        {
          "data": {
            "text/html": [
              "<div>\n",
              "<style scoped>\n",
              "    .dataframe tbody tr th:only-of-type {\n",
              "        vertical-align: middle;\n",
              "    }\n",
              "\n",
              "    .dataframe tbody tr th {\n",
              "        vertical-align: top;\n",
              "    }\n",
              "\n",
              "    .dataframe thead th {\n",
              "        text-align: right;\n",
              "    }\n",
              "</style>\n",
              "<table border=\"1\" class=\"dataframe\">\n",
              "  <thead>\n",
              "    <tr style=\"text-align: right;\">\n",
              "      <th></th>\n",
              "      <th>first_name</th>\n",
              "      <th>last_name</th>\n",
              "      <th>cc</th>\n",
              "      <th>salary</th>\n",
              "      <th>city</th>\n",
              "    </tr>\n",
              "  </thead>\n",
              "  <tbody>\n",
              "    <tr>\n",
              "      <th>0</th>\n",
              "      <td>Berget</td>\n",
              "      <td>Proughten</td>\n",
              "      <td>1495</td>\n",
              "      <td>NaN</td>\n",
              "      <td>NaN</td>\n",
              "    </tr>\n",
              "    <tr>\n",
              "      <th>1</th>\n",
              "      <td>Scotti</td>\n",
              "      <td>Yegorovnin</td>\n",
              "      <td>311</td>\n",
              "      <td>NaN</td>\n",
              "      <td>NaN</td>\n",
              "    </tr>\n",
              "    <tr>\n",
              "      <th>2</th>\n",
              "      <td>Clayton</td>\n",
              "      <td>Reide</td>\n",
              "      <td>914</td>\n",
              "      <td>$79239.05</td>\n",
              "      <td>Wierzbica</td>\n",
              "    </tr>\n",
              "    <tr>\n",
              "      <th>3</th>\n",
              "      <td>Toddie</td>\n",
              "      <td>Haddick</td>\n",
              "      <td>671</td>\n",
              "      <td>$75752.12</td>\n",
              "      <td>Heping</td>\n",
              "    </tr>\n",
              "    <tr>\n",
              "      <th>4</th>\n",
              "      <td>Brynna</td>\n",
              "      <td>Ferrucci</td>\n",
              "      <td>692</td>\n",
              "      <td>$53230.11</td>\n",
              "      <td>Thorold</td>\n",
              "    </tr>\n",
              "  </tbody>\n",
              "</table>\n",
              "</div>"
            ],
            "text/plain": [
              "  first_name   last_name    cc     salary       city\n",
              "0     Berget   Proughten  1495        NaN        NaN\n",
              "1     Scotti  Yegorovnin   311        NaN        NaN\n",
              "2    Clayton       Reide   914  $79239.05  Wierzbica\n",
              "3     Toddie     Haddick   671  $75752.12     Heping\n",
              "4     Brynna    Ferrucci   692  $53230.11    Thorold"
            ]
          },
          "execution_count": 12,
          "metadata": {},
          "output_type": "execute_result"
        }
      ],
      "source": [
        "merged_df_left.head()"
      ]
    },
    {
      "cell_type": "markdown",
      "metadata": {
        "id": "tf3xn_V5vDex"
      },
      "source": [
        "Se puede apreciar que, por ejemplo, para los dos primeros datos, falta el salario y la ciudad. Esto es porque al ser de tipo left, no encontró la cedula 1495 en el df2, por lo que no pudo emparejarle un salario o ciudad, lo que deja esos datos en NaN."
      ]
    },
    {
      "cell_type": "code",
      "execution_count": 13,
      "metadata": {
        "id": "QT9dZX70vNUi"
      },
      "outputs": [],
      "source": [
        "merged_df_right = pd.merge(df1,df2,on='cc', how='right')"
      ]
    },
    {
      "cell_type": "code",
      "execution_count": 14,
      "metadata": {
        "colab": {
          "base_uri": "https://localhost:8080/",
          "height": 206
        },
        "id": "2_Vcib_RvRpy",
        "outputId": "4b009da1-135d-4650-f4fd-9025a6245f70"
      },
      "outputs": [
        {
          "data": {
            "text/html": [
              "<div>\n",
              "<style scoped>\n",
              "    .dataframe tbody tr th:only-of-type {\n",
              "        vertical-align: middle;\n",
              "    }\n",
              "\n",
              "    .dataframe tbody tr th {\n",
              "        vertical-align: top;\n",
              "    }\n",
              "\n",
              "    .dataframe thead th {\n",
              "        text-align: right;\n",
              "    }\n",
              "</style>\n",
              "<table border=\"1\" class=\"dataframe\">\n",
              "  <thead>\n",
              "    <tr style=\"text-align: right;\">\n",
              "      <th></th>\n",
              "      <th>first_name</th>\n",
              "      <th>last_name</th>\n",
              "      <th>cc</th>\n",
              "      <th>salary</th>\n",
              "      <th>city</th>\n",
              "    </tr>\n",
              "  </thead>\n",
              "  <tbody>\n",
              "    <tr>\n",
              "      <th>0</th>\n",
              "      <td>NaN</td>\n",
              "      <td>NaN</td>\n",
              "      <td>611</td>\n",
              "      <td>$5432.91</td>\n",
              "      <td>Sabon Gari-Nangere</td>\n",
              "    </tr>\n",
              "    <tr>\n",
              "      <th>1</th>\n",
              "      <td>NaN</td>\n",
              "      <td>NaN</td>\n",
              "      <td>561</td>\n",
              "      <td>$6581.31</td>\n",
              "      <td>San Rafael Abajo</td>\n",
              "    </tr>\n",
              "    <tr>\n",
              "      <th>2</th>\n",
              "      <td>Abel</td>\n",
              "      <td>Toplin</td>\n",
              "      <td>13</td>\n",
              "      <td>$14405.46</td>\n",
              "      <td>Khvānsār</td>\n",
              "    </tr>\n",
              "    <tr>\n",
              "      <th>3</th>\n",
              "      <td>Drucill</td>\n",
              "      <td>Jaqueme</td>\n",
              "      <td>1191</td>\n",
              "      <td>$27742.78</td>\n",
              "      <td>Cemara</td>\n",
              "    </tr>\n",
              "    <tr>\n",
              "      <th>4</th>\n",
              "      <td>NaN</td>\n",
              "      <td>NaN</td>\n",
              "      <td>943</td>\n",
              "      <td>$88920.27</td>\n",
              "      <td>Diên Khánh</td>\n",
              "    </tr>\n",
              "  </tbody>\n",
              "</table>\n",
              "</div>"
            ],
            "text/plain": [
              "  first_name last_name    cc     salary                city\n",
              "0        NaN       NaN   611   $5432.91  Sabon Gari-Nangere\n",
              "1        NaN       NaN   561   $6581.31    San Rafael Abajo\n",
              "2       Abel    Toplin    13  $14405.46            Khvānsār\n",
              "3    Drucill   Jaqueme  1191  $27742.78              Cemara\n",
              "4        NaN       NaN   943  $88920.27          Diên Khánh"
            ]
          },
          "execution_count": 14,
          "metadata": {},
          "output_type": "execute_result"
        }
      ],
      "source": [
        "merged_df_right.head()"
      ]
    },
    {
      "cell_type": "markdown",
      "metadata": {
        "id": "1vZGhmztvTn7"
      },
      "source": [
        "En el caso del right, pasa algo similar pero en caso contrario, puesto que no encontró para el primero caso la cedula 611 en el df1, por lo que deja el nombre y apellido en NaN, así también para otros casos."
      ]
    },
    {
      "cell_type": "markdown",
      "metadata": {
        "id": "1QFXViW7voW0"
      },
      "source": [
        "## Nota:\n",
        "También es posible cambiar las columnas que se toman de referencia al momento de hacer merge.\n",
        "\n",
        "\n",
        "```\n",
        "pd.merge(df1,df2,on=['cc','city'])\n",
        "```\n",
        "Podemos tener una lista de columnas y al momento de hacer el merge, si lo tenemos en su forma estándar (inner), solo traerá y emparejará los datos que tenga la misma cedula y ciudad en ambos datasets.\n"
      ]
    }
  ],
  "metadata": {
    "colab": {
      "include_colab_link": true,
      "provenance": []
    },
    "kernelspec": {
      "display_name": "Python 3",
      "name": "python3"
    },
    "language_info": {
      "codemirror_mode": {
        "name": "ipython",
        "version": 3
      },
      "file_extension": ".py",
      "mimetype": "text/x-python",
      "name": "python",
      "nbconvert_exporter": "python",
      "pygments_lexer": "ipython3",
      "version": "3.11.5"
    }
  },
  "nbformat": 4,
  "nbformat_minor": 0
}
