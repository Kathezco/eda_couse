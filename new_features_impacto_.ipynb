{
  "nbformat": 4,
  "nbformat_minor": 0,
  "metadata": {
    "colab": {
      "provenance": [],
      "authorship_tag": "ABX9TyOlhfN/tFFuxU8WdwI0lKYL",
      "include_colab_link": true
    },
    "kernelspec": {
      "name": "python3",
      "display_name": "Python 3"
    },
    "language_info": {
      "name": "python"
    }
  },
  "cells": [
    {
      "cell_type": "markdown",
      "metadata": {
        "id": "view-in-github",
        "colab_type": "text"
      },
      "source": [
        "<a href=\"https://colab.research.google.com/github/armandoordonez/eda_couse/blob/main/new_features_impacto_.ipynb\" target=\"_parent\"><img src=\"https://colab.research.google.com/assets/colab-badge.svg\" alt=\"Open In Colab\"/></a>"
      ]
    },
    {
      "cell_type": "code",
      "execution_count": 24,
      "metadata": {
        "id": "HbHVSWVlbviP"
      },
      "outputs": [],
      "source": [
        "### Tutorial: Generación de Nuevas Características para Mejorar la Precisión de un Modelo\n",
        "\n",
        "# Caso de estudio: Predicción de supervivencia en el Titanic\n",
        "import seaborn as sns\n",
        "import pandas as pd\n",
        "from sklearn.model_selection import train_test_split\n",
        "from sklearn.ensemble import RandomForestClassifier\n",
        "from sklearn.metrics import accuracy_score\n",
        "\n",
        "# Cargar el conjunto de datos Titanic\n",
        "datos = sns.load_dataset('titanic')\n",
        "\n",
        "# Renombrar columnas a español\n",
        "datos.rename(columns={\n",
        "    'pclass': 'clase',\n",
        "    'sex': 'sexo',\n",
        "    'age': 'edad',\n",
        "    'sibsp': 'hermanos_esposos',\n",
        "    'parch': 'padres_hijos',\n",
        "    'fare': 'tarifa',\n",
        "    'embarked': 'embarque',\n",
        "    'survived': 'sobrevivio'\n",
        "}, inplace=True)\n"
      ]
    },
    {
      "cell_type": "code",
      "source": [
        "# Manejo de valores faltantes\n",
        "from sklearn.impute import SimpleImputer\n",
        "imputador = SimpleImputer(strategy='most_frequent')\n",
        "datos['edad'] = imputador.fit_transform(datos[['edad']])\n",
        "datos['embarque'] = imputador.fit_transform(datos[['embarque']])[:, 0] # Reshape to 1D array\n",
        "datos.dropna(subset=['embarque'], inplace=True)\n",
        "\n",
        "# Codificación de variables categóricas\n",
        "from sklearn.preprocessing import LabelEncoder\n",
        "codificador = LabelEncoder()\n",
        "datos['sexo'] = codificador.fit_transform(datos['sexo'])\n",
        "datos['embarque'] = codificador.fit_transform(datos['embarque'])\n",
        "\n",
        "# Definir las características y el objetivo\n",
        "caracteristicas = ['clase', 'sexo', 'edad', 'hermanos_esposos', 'padres_hijos', 'tarifa', 'embarque']\n",
        "objetivo = 'sobrevivio'\n",
        "\n",
        "# Dividir los datos en conjuntos de entrenamiento y prueba\n",
        "X = datos[caracteristicas]\n",
        "y = datos[objetivo]\n",
        "X_entreno, X_prueba, y_entreno, y_prueba = train_test_split(X, y, test_size=0.3, random_state=42)\n",
        "\n",
        "# Modelo base sin nuevas características\n",
        "modelo_base = RandomForestClassifier(random_state=42)\n",
        "modelo_base.fit(X_entreno, y_entreno)\n",
        "y_pred_base = modelo_base.predict(X_prueba)\n",
        "\n",
        "precision_base = accuracy_score(y_prueba, y_pred_base)\n",
        "print(f\"Precisión del modelo base: {precision_base:.4f}\")"
      ],
      "metadata": {
        "colab": {
          "base_uri": "https://localhost:8080/"
        },
        "id": "IryW6rYgg2ZZ",
        "outputId": "42aa06bd-5107-49ab-95f5-6a4702cb8a81"
      },
      "execution_count": 26,
      "outputs": [
        {
          "output_type": "stream",
          "name": "stdout",
          "text": [
            "Precisión del modelo base: 0.7836\n"
          ]
        }
      ]
    },
    {
      "cell_type": "code",
      "source": [
        "# Generación de nuevas características\n",
        "datos['tamano_familia'] = datos['hermanos_esposos'] + datos['padres_hijos'] + 1\n",
        "datos['esta_solo'] = (datos['tamano_familia'] == 1).astype(int)\n",
        "\n",
        "# Actualizar las características para incluir las nuevas\n",
        "caracteristicas_actualizadas = ['clase', 'sexo', 'edad', 'tarifa', 'embarque', 'tamano_familia', 'esta_solo']\n",
        "X = datos[caracteristicas_actualizadas]\n",
        "X_entreno, X_prueba, y_entreno, y_prueba = train_test_split(X, y, test_size=0.3, random_state=42)\n",
        "\n",
        "# Modelo con nuevas características\n",
        "modelo_mejorado = RandomForestClassifier(random_state=42)\n",
        "modelo_mejorado.fit(X_entreno, y_entreno)\n",
        "y_pred_mejorado = modelo_mejorado.predict(X_prueba)\n",
        "\n",
        "precision_mejorada = accuracy_score(y_prueba, y_pred_mejorado)\n",
        "print(f\"Precisión con nuevas características: {precision_mejorada:.4f}\")\n",
        "\n",
        "# Comparación de resultados\n",
        "mejora = precision_mejorada - precision_base\n",
        "print(f\"Mejora en la precisión: {mejora:.4f}\")"
      ],
      "metadata": {
        "colab": {
          "base_uri": "https://localhost:8080/"
        },
        "id": "PhKs0yfxg2h5",
        "outputId": "6907a104-53a8-4125-caa8-e6875177bd1d"
      },
      "execution_count": 27,
      "outputs": [
        {
          "output_type": "stream",
          "name": "stdout",
          "text": [
            "Precisión con nuevas características: 0.7948\n",
            "Mejora en la precisión: 0.0112\n"
          ]
        }
      ]
    },
    {
      "cell_type": "code",
      "source": [],
      "metadata": {
        "id": "g3EdsrFdg2mx"
      },
      "execution_count": null,
      "outputs": []
    }
  ]
}