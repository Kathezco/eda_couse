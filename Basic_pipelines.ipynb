{
  "nbformat": 4,
  "nbformat_minor": 0,
  "metadata": {
    "colab": {
      "provenance": [],
      "authorship_tag": "ABX9TyNgI5gXVUFzVMWNa9LNLLXL",
      "include_colab_link": true
    },
    "kernelspec": {
      "name": "python3",
      "display_name": "Python 3"
    },
    "language_info": {
      "name": "python"
    }
  },
  "cells": [
    {
      "cell_type": "markdown",
      "metadata": {
        "id": "view-in-github",
        "colab_type": "text"
      },
      "source": [
        "<a href=\"https://colab.research.google.com/github/armandoordonez/eda_couse/blob/main/Basic_pipelines.ipynb\" target=\"_parent\"><img src=\"https://colab.research.google.com/assets/colab-badge.svg\" alt=\"Open In Colab\"/></a>"
      ]
    },
    {
      "cell_type": "markdown",
      "source": [
        "## **Practica introductoria de Pipelines**"
      ],
      "metadata": {
        "id": "gSMGcJlblh6w"
      }
    },
    {
      "cell_type": "code",
      "execution_count": 1,
      "metadata": {
        "id": "TWVEwdTxOHLW"
      },
      "outputs": [],
      "source": [
        "# Importar las librerias\n",
        "# Pipeline\n",
        "from sklearn.pipeline import Pipeline\n",
        "\n",
        "# Scaler estandar preprocesado\n",
        "from sklearn.preprocessing import StandardScaler\n",
        "\n",
        "# Splitter\n",
        "from sklearn.model_selection import train_test_split\n",
        "\n",
        "# Importamos un clasificador: Support Vector Classifier para ML\n",
        "from sklearn.svm import SVC"
      ]
    },
    {
      "cell_type": "code",
      "source": [
        "# Genera un problema ficticio de clasificación randmom de n-classes.\n",
        "\n",
        "from sklearn.datasets import make_classification\n",
        "\n",
        "X, y = make_classification(random_state=0 )\n",
        "# https://scikit-learn.org/stable/modules/generated/sklearn.datasets.make_classification.html"
      ],
      "metadata": {
        "id": "klZzdBwZ6jeR"
      },
      "execution_count": 8,
      "outputs": []
    },
    {
      "cell_type": "code",
      "source": [
        "# Dividimos en test y train\n",
        "X_train, X_test, y_train, y_test = train_test_split(X, y, random_state=0)\n",
        "\n",
        "# Crea el pipeline\n",
        "# El pipeline puede usarse como un estimador\n",
        "# y evita data leaking del test set en el train set\n",
        "\n",
        "pipe = Pipeline([\n",
        "    ('svc', SVC())\n",
        "    ])\n",
        "\n",
        "\n",
        "# Se aplican los pasos en el dataset de entrenamiento\n",
        "pipe.fit(X_train, y_train)\n",
        "\n",
        "# se aplican los pasos en el dataset de prueba\n",
        "pipe.score(X_test, y_test)"
      ],
      "metadata": {
        "id": "V-4zZH5wl3QY",
        "outputId": "9556439b-33e8-43de-f2ac-122f9beda70f",
        "colab": {
          "base_uri": "https://localhost:8080/"
        }
      },
      "execution_count": 11,
      "outputs": [
        {
          "output_type": "execute_result",
          "data": {
            "text/plain": [
              "0.76"
            ]
          },
          "metadata": {},
          "execution_count": 11
        }
      ]
    },
    {
      "cell_type": "code",
      "source": [],
      "metadata": {
        "id": "Zd3lENDwl6zU"
      },
      "execution_count": null,
      "outputs": []
    }
  ]
}