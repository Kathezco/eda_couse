{
  "nbformat": 4,
  "nbformat_minor": 0,
  "metadata": {
    "colab": {
      "provenance": [],
      "authorship_tag": "ABX9TyNdOGqIgrIjaInm0DGayY4A",
      "include_colab_link": true
    },
    "kernelspec": {
      "name": "python3",
      "display_name": "Python 3"
    },
    "language_info": {
      "name": "python"
    }
  },
  "cells": [
    {
      "cell_type": "markdown",
      "metadata": {
        "id": "view-in-github",
        "colab_type": "text"
      },
      "source": [
        "<a href=\"https://colab.research.google.com/github/armandoordonez/eda_couse/blob/main/Pipeline_1.ipynb\" target=\"_parent\"><img src=\"https://colab.research.google.com/assets/colab-badge.svg\" alt=\"Open In Colab\"/></a>"
      ]
    },
    {
      "cell_type": "code",
      "execution_count": 1,
      "metadata": {
        "id": "14C24tVVh4Xk"
      },
      "outputs": [],
      "source": [
        "from sklearn import datasets\n",
        "from sklearn.model_selection import train_test_split\n",
        "from sklearn.preprocessing import StandardScaler\n",
        "from sklearn.decomposition import PCA\n",
        "from sklearn.tree import DecisionTreeClassifier\n",
        "\n",
        "# scoring data\n",
        "from sklearn.metrics import accuracy_score\n",
        "\n",
        "# importing pipes for making the Pipe flow\n",
        "from sklearn.pipeline import Pipeline\n",
        "\n"
      ]
    },
    {
      "cell_type": "code",
      "source": [
        "# dataset de prueba\n",
        "\n",
        "iris = datasets.load_iris()\n",
        "X = iris.data\n",
        "y = iris.target\n",
        "\n",
        "#Partimos los datos\n",
        "X_train, X_test, y_train, y_test = train_test_split(X, y, test_size = 0.50)\n",
        "\n",
        "# paso 1 PCA, paso 2 escalado, paso 2 clasificación\n",
        "\n",
        "pipe = Pipeline([('paso_estandarizacion', StandardScaler()), ('paso_decision_tree', DecisionTreeClassifier())], verbose = True)\n",
        "\n",
        "# fitting los datos en el pipeline\n",
        "\n",
        "pipe.fit(X_train, y_train)\n",
        "\n",
        "# mostramos los resultados\n",
        "print(accuracy_score(y_test, pipe.predict(X_test)))"
      ],
      "metadata": {
        "id": "WGpYkKKP5VAc",
        "outputId": "6a3db355-6245-4e7e-fbbd-51c390ac3c2a",
        "colab": {
          "base_uri": "https://localhost:8080/"
        }
      },
      "execution_count": 4,
      "outputs": [
        {
          "output_type": "stream",
          "name": "stdout",
          "text": [
            "[Pipeline]  (step 1 of 2) Processing paso2_estandarizacion, total=   0.0s\n",
            "[Pipeline]  (step 2 of 2) Processing paso3_decision_tree, total=   0.0s\n",
            "0.9333333333333333\n"
          ]
        }
      ]
    },
    {
      "cell_type": "code",
      "source": [
        "pipe = Pipeline([('paso_pca', PCA(n_components = 2)), ('paso_estandarizacion', StandardScaler()),  ('paso_decision_tree', DecisionTreeClassifier())], verbose = True)\n",
        "\n",
        "# fitting the data in the pipeline\n",
        "pipe.fit(X_train, y_train)\n",
        "\n",
        "# scoring data\n",
        "from sklearn.metrics import accuracy_score\n",
        "print(accuracy_score(y_test, pipe.predict(X_test)))"
      ],
      "metadata": {
        "colab": {
          "base_uri": "https://localhost:8080/"
        },
        "id": "ihqTw6g8iPtg",
        "outputId": "29d0bac8-817a-4f8f-f46a-a0425f86dbd2"
      },
      "execution_count": 6,
      "outputs": [
        {
          "output_type": "stream",
          "name": "stdout",
          "text": [
            "[Pipeline] ............... (step 1 of 3) Processing pca, total=   0.0s\n",
            "[Pipeline]  (step 2 of 3) Processing paso2_estandarizacion, total=   0.0s\n",
            "[Pipeline] ..... (step 3 of 3) Processing decision_tree, total=   0.0s\n",
            "0.8933333333333333\n"
          ]
        }
      ]
    },
    {
      "cell_type": "code",
      "source": [
        "pipe = Pipeline([('paso_decision_tree', DecisionTreeClassifier())], verbose = True)\n",
        "\n",
        "# fitting the data in the pipeline\n",
        "pipe.fit(X_train, y_train)\n",
        "\n",
        "# scoring data\n",
        "from sklearn.metrics import accuracy_score\n",
        "print(accuracy_score(y_test, pipe.predict(X_test)))"
      ],
      "metadata": {
        "colab": {
          "base_uri": "https://localhost:8080/"
        },
        "id": "apzqj_3DiX_5",
        "outputId": "5a392672-acb0-4ff5-8e08-9231c19f1485"
      },
      "execution_count": 8,
      "outputs": [
        {
          "output_type": "stream",
          "name": "stdout",
          "text": [
            "[Pipeline]  (step 1 of 1) Processing paso_decision_tree, total=   0.0s\n",
            "0.9333333333333333\n"
          ]
        }
      ]
    },
    {
      "cell_type": "code",
      "source": [],
      "metadata": {
        "id": "_aHFqlzmiede"
      },
      "execution_count": null,
      "outputs": []
    }
  ]
}