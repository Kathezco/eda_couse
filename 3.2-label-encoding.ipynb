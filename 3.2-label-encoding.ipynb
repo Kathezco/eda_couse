{
  "cells": [
    {
      "cell_type": "markdown",
      "metadata": {
        "colab_type": "text",
        "id": "view-in-github"
      },
      "source": [
        "<a href=\"https://colab.research.google.com/github/armandoordonez/eda_couse/blob/main/3.2-label-encoding.ipynb\" target=\"_parent\"><img src=\"https://colab.research.google.com/assets/colab-badge.svg\" alt=\"Open In Colab\"/></a>"
      ]
    },
    {
      "cell_type": "code",
      "execution_count": 6,
      "metadata": {
        "colab": {
          "base_uri": "https://localhost:8080/"
        },
        "id": "oGvX3ibBZz2u",
        "outputId": "3db65099-ca05-4483-dd69-6868d78f3885"
      },
      "outputs": [
        {
          "name": "stdout",
          "output_type": "stream",
          "text": [
            "  Cedula   ciudad  edad\n",
            "0    101     Cali    25\n",
            "1    202     Cali    12\n",
            "2    303  Palmira    15\n",
            "3    404  Palmira    14\n",
            "4    504   Bogota    19\n",
            "5    606   Bogota    23\n",
            "6    709  Popayan    25\n",
            "7    510  Palmira    29\n"
          ]
        }
      ],
      "source": [
        "# based on: https://www.statology.org/label-encoding-in-python/\n",
        "\n",
        "# Label encoding permite convertir columnas categóricas en numéricas\n",
        "\n",
        "from sklearn.preprocessing import LabelEncoder\n",
        "import pandas as pd\n",
        "\n",
        "# Creamos una instancia de label encoder\n",
        "lab = LabelEncoder()\n",
        "\n",
        "# Creamos un dataframe de prueba  DataFrame\n",
        "df = pd.DataFrame({'Cedula': ['101', '202', '303', '404', '504', '606', '709', '510'],\n",
        "                   'ciudad': ['Cali', 'Cali', 'Palmira', 'Palmira', 'Bogota', 'Bogota', 'Popayan', 'Palmira'],\n",
        "                   'edad': [25, 12, 15, 14, 19, 23, 25, 29]})\n",
        "\n",
        "#view DataFrame\n",
        "print(df)\n",
        "\n",
        "\n"
      ]
    },
    {
      "cell_type": "code",
      "execution_count": 8,
      "metadata": {
        "colab": {
          "base_uri": "https://localhost:8080/"
        },
        "id": "3JbIykrKZ3VF",
        "outputId": "4f3683cc-71bc-4d88-ce72-6fe76bb6a0bc"
      },
      "outputs": [
        {
          "name": "stdout",
          "output_type": "stream",
          "text": [
            "  Cedula  ciudad  edad\n",
            "0    101       1    25\n",
            "1    202       1    12\n",
            "2    303       2    15\n",
            "3    404       2    14\n",
            "4    504       0    19\n",
            "5    606       0    23\n",
            "6    709       3    25\n",
            "7    510       2    29\n"
          ]
        }
      ],
      "source": [
        "df['ciudad'] = lab.fit_transform(df['ciudad'])\n",
        "\n",
        "#view updated DataFrame\n",
        "print(df)\n"
      ]
    },
    {
      "cell_type": "markdown",
      "metadata": {
        "id": "QRrxuNe0aSYN"
      },
      "source": [
        "* Bogota se convirtío en 0\n",
        "* Cali se convirtío en 1\n",
        "* Palmira se convirtío en 2\n",
        "* Popayán se convirtío en 3\n"
      ]
    },
    {
      "cell_type": "code",
      "execution_count": 9,
      "metadata": {
        "colab": {
          "base_uri": "https://localhost:8080/"
        },
        "id": "Qau8WtnhaMpk",
        "outputId": "0458c995-4447-4e31-8ed9-3213ae803b38"
      },
      "outputs": [
        {
          "data": {
            "text/plain": [
              "array(['Cali', 'Cali', 'Palmira', 'Palmira', 'Bogota', 'Bogota',\n",
              "       'Popayan', 'Palmira'], dtype=object)"
            ]
          },
          "execution_count": 9,
          "metadata": {},
          "output_type": "execute_result"
        }
      ],
      "source": [
        "lab.inverse_transform(df['ciudad'])\n",
        "\n"
      ]
    },
    {
      "cell_type": "code",
      "execution_count": null,
      "metadata": {
        "id": "VALya_UxdhYt"
      },
      "outputs": [],
      "source": []
    }
  ],
  "metadata": {
    "colab": {
      "authorship_tag": "ABX9TyMAjhk7X8QaMzQxaKk0fU2a",
      "include_colab_link": true,
      "provenance": []
    },
    "kernelspec": {
      "display_name": "Python 3",
      "name": "python3"
    },
    "language_info": {
      "name": "python"
    }
  },
  "nbformat": 4,
  "nbformat_minor": 0
}
